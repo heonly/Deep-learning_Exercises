{
 "cells": [
  {
   "cell_type": "code",
   "execution_count": 122,
   "metadata": {},
   "outputs": [],
   "source": [
    "from sklearn.model_selection import train_test_split\n",
    "from sklearn.metrics import accuracy_score\n",
    "from sklearn.metrics import classification_report\n",
    "import numpy as np\n",
    "import jieba as jb\n",
    "from pandas import *\n",
    "import re"
   ]
  },
  {
   "cell_type": "markdown",
   "metadata": {},
   "source": [
    "#### 加载数据集用DataFrame存储"
   ]
  },
  {
   "cell_type": "code",
   "execution_count": 123,
   "metadata": {},
   "outputs": [],
   "source": [
    "labels = [];datas = [];\n",
    "fr = open('toutiao_cat_data.txt',encoding='utf-8')\n",
    "for line in fr.readlines():\n",
    "    lineArr = line.strip().split(\"_!_\")#strip()删除换行符，用split(\"_!_\")把每行文本按照_!_分开\n",
    "    labels.append(lineArr[2])#标签\n",
    "    datas.append(lineArr[3])#特征：标题+新闻关键词+ lineArr[4]\n",
    "#用DataFrame()存储\n",
    "df = pandas.DataFrame()\n",
    "df['data'] = datas\n",
    "df['label'] = labels"
   ]
  },
  {
   "cell_type": "code",
   "execution_count": 124,
   "metadata": {},
   "outputs": [
    {
     "data": {
      "text/html": [
       "<div>\n",
       "<style scoped>\n",
       "    .dataframe tbody tr th:only-of-type {\n",
       "        vertical-align: middle;\n",
       "    }\n",
       "\n",
       "    .dataframe tbody tr th {\n",
       "        vertical-align: top;\n",
       "    }\n",
       "\n",
       "    .dataframe thead th {\n",
       "        text-align: right;\n",
       "    }\n",
       "</style>\n",
       "<table border=\"1\" class=\"dataframe\">\n",
       "  <thead>\n",
       "    <tr style=\"text-align: right;\">\n",
       "      <th></th>\n",
       "      <th>data</th>\n",
       "      <th>label</th>\n",
       "    </tr>\n",
       "  </thead>\n",
       "  <tbody>\n",
       "    <tr>\n",
       "      <th>0</th>\n",
       "      <td>京城最值得你来场文化之旅的博物馆</td>\n",
       "      <td>news_culture</td>\n",
       "    </tr>\n",
       "    <tr>\n",
       "      <th>1</th>\n",
       "      <td>发酵床的垫料种类有哪些？哪种更好？</td>\n",
       "      <td>news_culture</td>\n",
       "    </tr>\n",
       "    <tr>\n",
       "      <th>2</th>\n",
       "      <td>上联：黄山黄河黄皮肤黄土高原。怎么对下联？</td>\n",
       "      <td>news_culture</td>\n",
       "    </tr>\n",
       "    <tr>\n",
       "      <th>3</th>\n",
       "      <td>林徽因什么理由拒绝了徐志摩而选择梁思成为终身伴侣？</td>\n",
       "      <td>news_culture</td>\n",
       "    </tr>\n",
       "    <tr>\n",
       "      <th>4</th>\n",
       "      <td>黄杨木是什么树？</td>\n",
       "      <td>news_culture</td>\n",
       "    </tr>\n",
       "    <tr>\n",
       "      <th>...</th>\n",
       "      <td>...</td>\n",
       "      <td>...</td>\n",
       "    </tr>\n",
       "    <tr>\n",
       "      <th>382683</th>\n",
       "      <td>A10处理器iPhone SE二代值得期待吗？</td>\n",
       "      <td>news_tech</td>\n",
       "    </tr>\n",
       "    <tr>\n",
       "      <th>382684</th>\n",
       "      <td>先进战机叛逃将带来重大损失，美军如何防止F22飞行员驾机叛逃？</td>\n",
       "      <td>news_military</td>\n",
       "    </tr>\n",
       "    <tr>\n",
       "      <th>382685</th>\n",
       "      <td>又一国领导人放话，只要普京下令，数万大军“碾压”美国白宫！</td>\n",
       "      <td>news_world</td>\n",
       "    </tr>\n",
       "    <tr>\n",
       "      <th>382686</th>\n",
       "      <td>如何看待美国总统连续撕毁美国签署的国际协议的举动？</td>\n",
       "      <td>news_world</td>\n",
       "    </tr>\n",
       "    <tr>\n",
       "      <th>382687</th>\n",
       "      <td>农博会上，公安100余种土特产成了抢手货……</td>\n",
       "      <td>news_agriculture</td>\n",
       "    </tr>\n",
       "  </tbody>\n",
       "</table>\n",
       "<p>382688 rows × 2 columns</p>\n",
       "</div>"
      ],
      "text/plain": [
       "                                   data             label\n",
       "0                      京城最值得你来场文化之旅的博物馆      news_culture\n",
       "1                     发酵床的垫料种类有哪些？哪种更好？      news_culture\n",
       "2                 上联：黄山黄河黄皮肤黄土高原。怎么对下联？      news_culture\n",
       "3             林徽因什么理由拒绝了徐志摩而选择梁思成为终身伴侣？      news_culture\n",
       "4                              黄杨木是什么树？      news_culture\n",
       "...                                 ...               ...\n",
       "382683          A10处理器iPhone SE二代值得期待吗？         news_tech\n",
       "382684  先进战机叛逃将带来重大损失，美军如何防止F22飞行员驾机叛逃？     news_military\n",
       "382685    又一国领导人放话，只要普京下令，数万大军“碾压”美国白宫！        news_world\n",
       "382686        如何看待美国总统连续撕毁美国签署的国际协议的举动？        news_world\n",
       "382687           农博会上，公安100余种土特产成了抢手货……  news_agriculture\n",
       "\n",
       "[382688 rows x 2 columns]"
      ]
     },
     "execution_count": 124,
     "metadata": {},
     "output_type": "execute_result"
    }
   ],
   "source": [
    "df"
   ]
  },
  {
   "cell_type": "code",
   "execution_count": 125,
   "metadata": {},
   "outputs": [],
   "source": [
    "#列表中添加类型id\n",
    "df['id'] = df['label'].factorize()[0]#factorize创建数字表示类别变量，对每一个类别映射一个id\n",
    "id_df = df[['label', 'id']].drop_duplicates().sort_values('id').reset_index(drop=True)#删除重复项、根据id排序、重置index"
   ]
  },
  {
   "cell_type": "code",
   "execution_count": 126,
   "metadata": {},
   "outputs": [
    {
     "data": {
      "text/html": [
       "<div>\n",
       "<style scoped>\n",
       "    .dataframe tbody tr th:only-of-type {\n",
       "        vertical-align: middle;\n",
       "    }\n",
       "\n",
       "    .dataframe tbody tr th {\n",
       "        vertical-align: top;\n",
       "    }\n",
       "\n",
       "    .dataframe thead th {\n",
       "        text-align: right;\n",
       "    }\n",
       "</style>\n",
       "<table border=\"1\" class=\"dataframe\">\n",
       "  <thead>\n",
       "    <tr style=\"text-align: right;\">\n",
       "      <th></th>\n",
       "      <th>data</th>\n",
       "      <th>label</th>\n",
       "      <th>id</th>\n",
       "    </tr>\n",
       "  </thead>\n",
       "  <tbody>\n",
       "    <tr>\n",
       "      <th>0</th>\n",
       "      <td>京城最值得你来场文化之旅的博物馆</td>\n",
       "      <td>news_culture</td>\n",
       "      <td>0</td>\n",
       "    </tr>\n",
       "    <tr>\n",
       "      <th>1</th>\n",
       "      <td>发酵床的垫料种类有哪些？哪种更好？</td>\n",
       "      <td>news_culture</td>\n",
       "      <td>0</td>\n",
       "    </tr>\n",
       "    <tr>\n",
       "      <th>2</th>\n",
       "      <td>上联：黄山黄河黄皮肤黄土高原。怎么对下联？</td>\n",
       "      <td>news_culture</td>\n",
       "      <td>0</td>\n",
       "    </tr>\n",
       "    <tr>\n",
       "      <th>3</th>\n",
       "      <td>林徽因什么理由拒绝了徐志摩而选择梁思成为终身伴侣？</td>\n",
       "      <td>news_culture</td>\n",
       "      <td>0</td>\n",
       "    </tr>\n",
       "    <tr>\n",
       "      <th>4</th>\n",
       "      <td>黄杨木是什么树？</td>\n",
       "      <td>news_culture</td>\n",
       "      <td>0</td>\n",
       "    </tr>\n",
       "    <tr>\n",
       "      <th>...</th>\n",
       "      <td>...</td>\n",
       "      <td>...</td>\n",
       "      <td>...</td>\n",
       "    </tr>\n",
       "    <tr>\n",
       "      <th>382683</th>\n",
       "      <td>A10处理器iPhone SE二代值得期待吗？</td>\n",
       "      <td>news_tech</td>\n",
       "      <td>7</td>\n",
       "    </tr>\n",
       "    <tr>\n",
       "      <th>382684</th>\n",
       "      <td>先进战机叛逃将带来重大损失，美军如何防止F22飞行员驾机叛逃？</td>\n",
       "      <td>news_military</td>\n",
       "      <td>8</td>\n",
       "    </tr>\n",
       "    <tr>\n",
       "      <th>382685</th>\n",
       "      <td>又一国领导人放话，只要普京下令，数万大军“碾压”美国白宫！</td>\n",
       "      <td>news_world</td>\n",
       "      <td>10</td>\n",
       "    </tr>\n",
       "    <tr>\n",
       "      <th>382686</th>\n",
       "      <td>如何看待美国总统连续撕毁美国签署的国际协议的举动？</td>\n",
       "      <td>news_world</td>\n",
       "      <td>10</td>\n",
       "    </tr>\n",
       "    <tr>\n",
       "      <th>382687</th>\n",
       "      <td>农博会上，公安100余种土特产成了抢手货……</td>\n",
       "      <td>news_agriculture</td>\n",
       "      <td>11</td>\n",
       "    </tr>\n",
       "  </tbody>\n",
       "</table>\n",
       "<p>382688 rows × 3 columns</p>\n",
       "</div>"
      ],
      "text/plain": [
       "                                   data             label  id\n",
       "0                      京城最值得你来场文化之旅的博物馆      news_culture   0\n",
       "1                     发酵床的垫料种类有哪些？哪种更好？      news_culture   0\n",
       "2                 上联：黄山黄河黄皮肤黄土高原。怎么对下联？      news_culture   0\n",
       "3             林徽因什么理由拒绝了徐志摩而选择梁思成为终身伴侣？      news_culture   0\n",
       "4                              黄杨木是什么树？      news_culture   0\n",
       "...                                 ...               ...  ..\n",
       "382683          A10处理器iPhone SE二代值得期待吗？         news_tech   7\n",
       "382684  先进战机叛逃将带来重大损失，美军如何防止F22飞行员驾机叛逃？     news_military   8\n",
       "382685    又一国领导人放话，只要普京下令，数万大军“碾压”美国白宫！        news_world  10\n",
       "382686        如何看待美国总统连续撕毁美国签署的国际协议的举动？        news_world  10\n",
       "382687           农博会上，公安100余种土特产成了抢手货……  news_agriculture  11\n",
       "\n",
       "[382688 rows x 3 columns]"
      ]
     },
     "execution_count": 126,
     "metadata": {},
     "output_type": "execute_result"
    }
   ],
   "source": [
    "df"
   ]
  },
  {
   "cell_type": "code",
   "execution_count": 127,
   "metadata": {},
   "outputs": [
    {
     "name": "stdout",
     "output_type": "stream",
     "text": [
      "news_agriculture 19322\n",
      "news_car 35785\n",
      "news_culture 28031\n",
      "news_edu 27058\n",
      "news_entertainment 39396\n",
      "news_finance 27085\n",
      "news_game 29300\n",
      "news_house 17672\n",
      "news_military 24984\n",
      "news_sports 37568\n",
      "news_story 6273\n",
      "news_tech 41543\n",
      "news_travel 21422\n",
      "news_world 26909\n",
      "stock 340\n"
     ]
    }
   ],
   "source": [
    "#查看14种类别的数量\n",
    "for name, group in df.groupby(df.columns[1]):\n",
    "    print(name,len(group))"
   ]
  },
  {
   "cell_type": "markdown",
   "metadata": {},
   "source": [
    "#### 处理文本：过滤标点、停用词"
   ]
  },
  {
   "cell_type": "code",
   "execution_count": 128,
   "metadata": {},
   "outputs": [],
   "source": [
    "#删除标点函数\n",
    "def remove_punctuation(line):\n",
    "    line = str(line)\n",
    "    if line.strip()=='':\n",
    "        return ''\n",
    "    rule = re.compile(u\"[^a-zA-Z0-9\\u4E00-\\u9FA5]\")\n",
    "    line = rule.sub('',line)\n",
    "    return line\n",
    "#加载停用词\n",
    "def stopwordslist():  \n",
    "    stopwords = [line.strip() for line in open(\"chineseStopWords.txt\", 'r', encoding='utf-8').readlines()]  \n",
    "    return stopwords  \n",
    "stopwords = stopwordslist()"
   ]
  },
  {
   "cell_type": "code",
   "execution_count": 129,
   "metadata": {},
   "outputs": [],
   "source": [
    "#删除标点\n",
    "df['data'] = df['data'].apply(remove_punctuation)#删除标点\n",
    "#分词、过滤停用词并写入cutWords_list\n",
    "cutWords_list = []\n",
    "content_series = df['data']\n",
    "\n",
    "for i in range(len(content_series)):\n",
    "    content = content_series.iloc[i]\n",
    "    cutWords = [k for k in jb.cut(content, True) if k not in stopwords]\n",
    "    cutWords_list.append(cutWords)"
   ]
  },
  {
   "cell_type": "code",
   "execution_count": 130,
   "metadata": {},
   "outputs": [
    {
     "data": {
      "text/plain": [
       "[['京城', '值得', '场', '文化', '旅', '博物', '博物馆'],\n",
       " ['发酵', '床', '垫料', '种类', '哪种', '更好'],\n",
       " ['上联', '黄山', '黄河', '黄皮', '黄皮肤', '皮肤', '黄土', '黄土高原', '高原', '下联'],\n",
       " ['林徽因', '理由', '拒绝', '徐志摩', '志摩', '选择', '梁思成', '成为', '终身', '终身伴侣', '伴侣'],\n",
       " ['黄杨', '黄杨木', '杨木', '树']]"
      ]
     },
     "execution_count": 130,
     "metadata": {},
     "output_type": "execute_result"
    }
   ],
   "source": [
    "cutWords_list[0:5]"
   ]
  },
  {
   "cell_type": "code",
   "execution_count": 131,
   "metadata": {},
   "outputs": [
    {
     "data": {
      "text/html": [
       "<div>\n",
       "<style scoped>\n",
       "    .dataframe tbody tr th:only-of-type {\n",
       "        vertical-align: middle;\n",
       "    }\n",
       "\n",
       "    .dataframe tbody tr th {\n",
       "        vertical-align: top;\n",
       "    }\n",
       "\n",
       "    .dataframe thead th {\n",
       "        text-align: right;\n",
       "    }\n",
       "</style>\n",
       "<table border=\"1\" class=\"dataframe\">\n",
       "  <thead>\n",
       "    <tr style=\"text-align: right;\">\n",
       "      <th></th>\n",
       "      <th>data</th>\n",
       "      <th>label</th>\n",
       "      <th>id</th>\n",
       "    </tr>\n",
       "  </thead>\n",
       "  <tbody>\n",
       "    <tr>\n",
       "      <th>0</th>\n",
       "      <td>京城最值得你来场文化之旅的博物馆</td>\n",
       "      <td>news_culture</td>\n",
       "      <td>0</td>\n",
       "    </tr>\n",
       "    <tr>\n",
       "      <th>1</th>\n",
       "      <td>发酵床的垫料种类有哪些哪种更好</td>\n",
       "      <td>news_culture</td>\n",
       "      <td>0</td>\n",
       "    </tr>\n",
       "    <tr>\n",
       "      <th>2</th>\n",
       "      <td>上联黄山黄河黄皮肤黄土高原怎么对下联</td>\n",
       "      <td>news_culture</td>\n",
       "      <td>0</td>\n",
       "    </tr>\n",
       "    <tr>\n",
       "      <th>3</th>\n",
       "      <td>林徽因什么理由拒绝了徐志摩而选择梁思成为终身伴侣</td>\n",
       "      <td>news_culture</td>\n",
       "      <td>0</td>\n",
       "    </tr>\n",
       "    <tr>\n",
       "      <th>4</th>\n",
       "      <td>黄杨木是什么树</td>\n",
       "      <td>news_culture</td>\n",
       "      <td>0</td>\n",
       "    </tr>\n",
       "    <tr>\n",
       "      <th>...</th>\n",
       "      <td>...</td>\n",
       "      <td>...</td>\n",
       "      <td>...</td>\n",
       "    </tr>\n",
       "    <tr>\n",
       "      <th>382683</th>\n",
       "      <td>A10处理器iPhoneSE二代值得期待吗</td>\n",
       "      <td>news_tech</td>\n",
       "      <td>7</td>\n",
       "    </tr>\n",
       "    <tr>\n",
       "      <th>382684</th>\n",
       "      <td>先进战机叛逃将带来重大损失美军如何防止F22飞行员驾机叛逃</td>\n",
       "      <td>news_military</td>\n",
       "      <td>8</td>\n",
       "    </tr>\n",
       "    <tr>\n",
       "      <th>382685</th>\n",
       "      <td>又一国领导人放话只要普京下令数万大军碾压美国白宫</td>\n",
       "      <td>news_world</td>\n",
       "      <td>10</td>\n",
       "    </tr>\n",
       "    <tr>\n",
       "      <th>382686</th>\n",
       "      <td>如何看待美国总统连续撕毁美国签署的国际协议的举动</td>\n",
       "      <td>news_world</td>\n",
       "      <td>10</td>\n",
       "    </tr>\n",
       "    <tr>\n",
       "      <th>382687</th>\n",
       "      <td>农博会上公安100余种土特产成了抢手货</td>\n",
       "      <td>news_agriculture</td>\n",
       "      <td>11</td>\n",
       "    </tr>\n",
       "  </tbody>\n",
       "</table>\n",
       "<p>382688 rows × 3 columns</p>\n",
       "</div>"
      ],
      "text/plain": [
       "                                 data             label  id\n",
       "0                    京城最值得你来场文化之旅的博物馆      news_culture   0\n",
       "1                     发酵床的垫料种类有哪些哪种更好      news_culture   0\n",
       "2                  上联黄山黄河黄皮肤黄土高原怎么对下联      news_culture   0\n",
       "3            林徽因什么理由拒绝了徐志摩而选择梁思成为终身伴侣      news_culture   0\n",
       "4                             黄杨木是什么树      news_culture   0\n",
       "...                               ...               ...  ..\n",
       "382683          A10处理器iPhoneSE二代值得期待吗         news_tech   7\n",
       "382684  先进战机叛逃将带来重大损失美军如何防止F22飞行员驾机叛逃     news_military   8\n",
       "382685       又一国领导人放话只要普京下令数万大军碾压美国白宫        news_world  10\n",
       "382686       如何看待美国总统连续撕毁美国签署的国际协议的举动        news_world  10\n",
       "382687            农博会上公安100余种土特产成了抢手货  news_agriculture  11\n",
       "\n",
       "[382688 rows x 3 columns]"
      ]
     },
     "execution_count": 131,
     "metadata": {},
     "output_type": "execute_result"
    }
   ],
   "source": [
    "df"
   ]
  },
  {
   "cell_type": "markdown",
   "metadata": {},
   "source": [
    "#### word2vec模型"
   ]
  },
  {
   "cell_type": "code",
   "execution_count": 132,
   "metadata": {},
   "outputs": [],
   "source": [
    "import warnings\n",
    "warnings.filterwarnings('ignore')"
   ]
  },
  {
   "cell_type": "code",
   "execution_count": 133,
   "metadata": {},
   "outputs": [],
   "source": [
    "#word2vec模型实例化对象\n",
    "from gensim.models import Word2Vec\n",
    "#输出向量位维数size=100，迭代次数iter=10，丢掉词频少于min_count的词语\n",
    "word2vec_model = Word2Vec(cutWords_list, size=200, iter=10, min_count=0)#将cutWords_list中的的词映射到语义空间中"
   ]
  },
  {
   "cell_type": "code",
   "execution_count": 134,
   "metadata": {},
   "outputs": [
    {
     "data": {
      "text/plain": [
       "[('后任', 0.6479679346084595),\n",
       " ('白宫', 0.6259499788284302),\n",
       " ('新官上任', 0.6157052516937256),\n",
       " ('奥巴马', 0.6074644923210144),\n",
       " ('总统', 0.6067150831222534),\n",
       " ('英法德', 0.6033245921134949),\n",
       " ('孤行', 0.6003737449645996),\n",
       " ('政客', 0.6002194881439209),\n",
       " ('巴马', 0.5974191427230835),\n",
       " ('奥巴', 0.5955947637557983)]"
      ]
     },
     "execution_count": 134,
     "metadata": {},
     "output_type": "execute_result"
    }
   ],
   "source": [
    "#通过word2vec对象的most_similar方法获取词义相近的词\n",
    "word2vec_model.wv.most_similar(\"特朗普\")"
   ]
  },
  {
   "cell_type": "code",
   "execution_count": 135,
   "metadata": {},
   "outputs": [
    {
     "data": {
      "text/plain": [
       "0.78269786"
      ]
     },
     "execution_count": 135,
     "metadata": {},
     "output_type": "execute_result"
    }
   ],
   "source": [
    "word2vec_model.similarity('奔驰','奥迪')"
   ]
  },
  {
   "cell_type": "markdown",
   "metadata": {},
   "source": [
    "#### 词向量表示"
   ]
  },
  {
   "cell_type": "code",
   "execution_count": 136,
   "metadata": {},
   "outputs": [],
   "source": [
    "#将每条新闻标题向量化表示\n",
    "'''\n",
    "对于一条新闻标题，首先获取这条标题的每一个分词在word2vec模型的相关性向量，然后将这些相关性向量求和取平均数，\n",
    "结果即为这条新闻标题在word2vec模型中的相关性向量。\n",
    "实例化Word2Vec对象时，关键字参数size定义为100，则相关性矩阵都为100维。\n",
    "getVector函数获取每个标题的词向量，传入2个参数，第1个参数是文章分词的结果，第2个参数是word2vec模型对象。\n",
    "'''\n",
    "def get_contentVector(cutWords, word2vec_model):\n",
    "    vector_list = [word2vec_model.wv[k] for k in cutWords if k in word2vec_model]\n",
    "    contentVector = np.array(vector_list).mean(axis=0)\n",
    "    return contentVector\n",
    "\n",
    "#循环处理每一条新闻标题\n",
    "contentVector_list = []\n",
    "for i in range(len(cutWords_list)):\n",
    "    cutWords = cutWords_list[i]\n",
    "    #contentVector_list.append(get_contentVector(cutWords, word2vec_model))\n",
    "    cVect = get_contentVector(cutWords, word2vec_model)\n",
    "    \n",
    "#当min_count过大时一些词被丢掉导致维度为nan,需要过滤维度不正确的值\n",
    "#     if(cVect.shape!=(200,)):\n",
    "#          cVect = np.zeros(200,)\n",
    "        \n",
    "    contentVector_list.append(cVect)\n",
    "    \n",
    "#将列表转为特征矩阵   \n",
    "X = np.array(contentVector_list) #21662 "
   ]
  },
  {
   "cell_type": "code",
   "execution_count": 137,
   "metadata": {},
   "outputs": [
    {
     "data": {
      "text/plain": [
       "(382688, 200)"
      ]
     },
     "execution_count": 137,
     "metadata": {},
     "output_type": "execute_result"
    }
   ],
   "source": [
    "X.shape"
   ]
  },
  {
   "cell_type": "code",
   "execution_count": 138,
   "metadata": {},
   "outputs": [],
   "source": [
    "#对新闻类别做标签编码\n",
    "from sklearn.preprocessing import LabelEncoder\n",
    "\n",
    "labelEncoder = LabelEncoder()\n",
    "y = labelEncoder.fit_transform(df['id'])"
   ]
  },
  {
   "cell_type": "code",
   "execution_count": 139,
   "metadata": {},
   "outputs": [
    {
     "data": {
      "text/plain": [
       "array([ 0,  0,  0, ..., 10, 10, 11], dtype=int64)"
      ]
     },
     "execution_count": 139,
     "metadata": {},
     "output_type": "execute_result"
    }
   ],
   "source": [
    "y"
   ]
  },
  {
   "cell_type": "code",
   "execution_count": 140,
   "metadata": {},
   "outputs": [
    {
     "data": {
      "text/plain": [
       "(382688,)"
      ]
     },
     "execution_count": 140,
     "metadata": {},
     "output_type": "execute_result"
    }
   ],
   "source": [
    "y.shape"
   ]
  },
  {
   "cell_type": "code",
   "execution_count": 141,
   "metadata": {},
   "outputs": [],
   "source": [
    "#划分训练集、测试集\n",
    "X_train, X_test, y_train, y_test = train_test_split(X, y, test_size=0.3, random_state = 0)"
   ]
  },
  {
   "cell_type": "code",
   "execution_count": 142,
   "metadata": {},
   "outputs": [
    {
     "data": {
      "text/plain": [
       "(267881, 200)"
      ]
     },
     "execution_count": 142,
     "metadata": {},
     "output_type": "execute_result"
    }
   ],
   "source": [
    "X_train.shape"
   ]
  },
  {
   "cell_type": "code",
   "execution_count": 143,
   "metadata": {},
   "outputs": [],
   "source": [
    "train_x = X_train.T"
   ]
  },
  {
   "cell_type": "code",
   "execution_count": 144,
   "metadata": {},
   "outputs": [
    {
     "data": {
      "text/plain": [
       "(200, 267881)"
      ]
     },
     "execution_count": 144,
     "metadata": {},
     "output_type": "execute_result"
    }
   ],
   "source": [
    "train_x.shape"
   ]
  },
  {
   "cell_type": "code",
   "execution_count": 145,
   "metadata": {},
   "outputs": [],
   "source": [
    "#将类别转换为one-hot表示，以用于训练\n",
    "from sklearn.preprocessing import LabelBinarizer\n",
    "encoder = LabelBinarizer()\n",
    "train_y0 = encoder.fit_transform(y_train)\n",
    "train_y = train_y0.T"
   ]
  },
  {
   "cell_type": "code",
   "execution_count": 146,
   "metadata": {},
   "outputs": [
    {
     "data": {
      "text/plain": [
       "(15, 267881)"
      ]
     },
     "execution_count": 146,
     "metadata": {},
     "output_type": "execute_result"
    }
   ],
   "source": [
    "train_y.shape"
   ]
  },
  {
   "cell_type": "code",
   "execution_count": 147,
   "metadata": {},
   "outputs": [
    {
     "data": {
      "text/plain": [
       "array([[0, 0, 0, ..., 0, 1, 0],\n",
       "       [0, 0, 1, ..., 0, 0, 0],\n",
       "       [0, 1, 0, ..., 0, 0, 0],\n",
       "       ...,\n",
       "       [0, 0, 0, ..., 0, 0, 0],\n",
       "       [0, 0, 0, ..., 0, 0, 0],\n",
       "       [0, 0, 0, ..., 0, 0, 0]])"
      ]
     },
     "execution_count": 147,
     "metadata": {},
     "output_type": "execute_result"
    }
   ],
   "source": [
    "train_y"
   ]
  },
  {
   "cell_type": "markdown",
   "metadata": {},
   "source": [
    "#### NeuralNetwork"
   ]
  },
  {
   "cell_type": "code",
   "execution_count": 148,
   "metadata": {},
   "outputs": [],
   "source": [
    "def initialize_parameters( n_x , n_h ,n_y):\n",
    "    \"\"\"\n",
    "    参数：\n",
    "        n_x - 输入层节点的数量\n",
    "        n_h - 隐藏层节点的数量\n",
    "        n_y - 输出层节点的数量\n",
    "    \n",
    "    返回：\n",
    "        parameters - 包含参数的字典：\n",
    "            W1 - 权重矩阵,维度为（n_h，n_x）\n",
    "            b1 - 偏向量，维度为（n_h，1）\n",
    "            W2 - 权重矩阵，维度为（n_y，n_h）\n",
    "            b2 - 偏向量，维度为（n_y，1）\n",
    "\n",
    "    \"\"\"\n",
    "    np.random.seed(2)\n",
    "    W1 = np.random.randn(n_h,n_x) * 0.01 #(4,200)\n",
    "    b1 = np.zeros(shape=(n_h, 1)) # (4,1)\n",
    "    W2 = np.random.randn(n_y,n_h) * 0.01 #(15,4)\n",
    "    b2 = np.zeros(shape=(n_y, 1)) # 15,1\n",
    "    \n",
    "    \n",
    "    parameters = {\"W1\" : W1,\n",
    "                  \"b1\" : b1,\n",
    "                  \"W2\" : W2,\n",
    "                  \"b2\" : b2 }\n",
    "    \n",
    "    return parameters"
   ]
  },
  {
   "cell_type": "code",
   "execution_count": 149,
   "metadata": {},
   "outputs": [],
   "source": [
    "def sigmoid(x):\n",
    "    s = 1/(1+np.exp(-x))\n",
    "    return s\n",
    "\n",
    "def forward_propagation( X , parameters ):\n",
    "    \"\"\"\n",
    "    参数：\n",
    "         X - 维度为（n_x，m）的输入数据。\n",
    "         parameters - 初始化函数（initialize_parameters）的输出\n",
    "    \n",
    "    返回：\n",
    "         A2 - 使用sigmoid()函数计算的第二次激活后的数值\n",
    "         cache - 包含“Z1”，“A1”，“Z2”和“A2”的字典类型变量\n",
    "     \"\"\"\n",
    "    W1 = parameters[\"W1\"]#(4,200)\n",
    "    b1 = parameters[\"b1\"]#4,1)\n",
    "    W2 = parameters[\"W2\"]#(14,4)\n",
    "    b2 = parameters[\"b2\"]## 14,1\n",
    "    \n",
    "    #前向传播计算A2\n",
    "    Z1 = np.dot(W1 , X) + b1\n",
    "    A1 = np.tanh(Z1)\n",
    "    Z2 = np.dot(W2 , A1) + b2\n",
    "    A2 = sigmoid(Z2)\n",
    "    \n",
    "    cache = {\"Z1\": Z1,\n",
    "             \"A1\": A1,\n",
    "             \"Z2\": Z2,\n",
    "             \"A2\": A2}\n",
    "    \n",
    "    return (A2, cache)"
   ]
  },
  {
   "cell_type": "code",
   "execution_count": 150,
   "metadata": {},
   "outputs": [],
   "source": [
    "def compute_cost(A2,Y,parameters):\n",
    "    \"\"\"\n",
    "    计算交叉熵成本，\n",
    "    \n",
    "    参数：\n",
    "         A2 - 使用sigmoid()函数计算的第二次激活后的数值\n",
    "         Y - \"True\"标签向量,维度为（1，数量）\n",
    "         parameters - 一个包含W1，B1，W2和B2的字典类型的变量\n",
    "    \n",
    "    返回：\n",
    "         成本 - 交叉熵成本\n",
    "    \"\"\"\n",
    "    \n",
    "    m = Y.shape[1]\n",
    "    W1 = parameters[\"W1\"]\n",
    "    W2 = parameters[\"W2\"]\n",
    "    \n",
    "    #计算成本\n",
    "    logprobs = logprobs = np.multiply(np.log(A2), Y) + np.multiply((1 - Y), np.log(1 - A2))\n",
    "    cost = - np.sum(logprobs) / m\n",
    "    cost = float(np.squeeze(cost))\n",
    "    \n",
    "    \n",
    "    return cost"
   ]
  },
  {
   "cell_type": "code",
   "execution_count": 151,
   "metadata": {},
   "outputs": [],
   "source": [
    "def backward_propagation(parameters,cache,X,Y):\n",
    "    \"\"\" \n",
    "    参数：\n",
    "     parameters - 包含我们的参数的一个字典类型的变量。\n",
    "     cache - 包含“Z1”，“A1”，“Z2”和“A2”的字典类型的变量。\n",
    "     X - 输入数据，维度为（2，数量）\n",
    "     Y - “True”标签，维度为（1，数量）\n",
    "    \n",
    "    返回：\n",
    "     grads - 包含W和b的导数一个字典类型的变量\n",
    "    \"\"\"\n",
    "    m = X.shape[1]\n",
    "    \n",
    "    W1 = parameters[\"W1\"]\n",
    "    W2 = parameters[\"W2\"]\n",
    "    \n",
    "    A1 = cache[\"A1\"]\n",
    "    A2 = cache[\"A2\"]\n",
    "    \n",
    "    dZ2= A2 - Y\n",
    "    dW2 = (1 / m) * np.dot(dZ2, A1.T)\n",
    "    db2 = (1 / m) * np.sum(dZ2, axis=1, keepdims=True)\n",
    "    dZ1 = np.multiply(np.dot(W2.T, dZ2), 1 - np.power(A1, 2))\n",
    "    dW1 = (1 / m) * np.dot(dZ1, X.T)\n",
    "    db1 = (1 / m) * np.sum(dZ1, axis=1, keepdims=True)\n",
    "    grads = {\"dW1\": dW1,\n",
    "             \"db1\": db1,\n",
    "             \"dW2\": dW2,\n",
    "             \"db2\": db2 }\n",
    "    \n",
    "    return grads"
   ]
  },
  {
   "cell_type": "code",
   "execution_count": 152,
   "metadata": {},
   "outputs": [],
   "source": [
    "def update_parameters(parameters,grads,learning_rate=1.2):\n",
    "    \"\"\"  \n",
    "    参数：\n",
    "     parameters - 包含参数的字典类型的变量\n",
    "     grads - 包含导数值的字典类型的变量\n",
    "     learning_rate - 学习率\n",
    "    \n",
    "    返回：\n",
    "     parameters - 包含更新参数的字典类型的变量\n",
    "    \"\"\"\n",
    "    W1,W2 = parameters[\"W1\"],parameters[\"W2\"]\n",
    "    b1,b2 = parameters[\"b1\"],parameters[\"b2\"]\n",
    "    \n",
    "    dW1,dW2 = grads[\"dW1\"],grads[\"dW2\"]\n",
    "    db1,db2 = grads[\"db1\"],grads[\"db2\"]\n",
    "    \n",
    "    W1 = W1 - learning_rate * dW1\n",
    "    b1 = b1 - learning_rate * db1\n",
    "    W2 = W2 - learning_rate * dW2\n",
    "    b2 = b2 - learning_rate * db2\n",
    "    \n",
    "    parameters = {\"W1\": W1,\n",
    "                  \"b1\": b1,\n",
    "                  \"W2\": W2,\n",
    "                  \"b2\": b2}\n",
    "    \n",
    "    return parameters"
   ]
  },
  {
   "cell_type": "code",
   "execution_count": 153,
   "metadata": {},
   "outputs": [],
   "source": [
    "def model(X,Y,n_h,num_iterations,print_cost=False):\n",
    "    \"\"\"\n",
    "    参数：\n",
    "        X - 数据集,维度为（200，示例数）\n",
    "        Y - 标签，维度为（15，示例数）\n",
    "        n_h - 隐藏层的数量\n",
    "        num_iterations - 梯度下降循环中的迭代次数\n",
    "        print_cost - 如果为True，则每1000次迭代打印一次成本数值\n",
    "    \n",
    "    返回：\n",
    "        parameters - 模型学习的参数，它们可以用来进行预测。\n",
    "     \"\"\"\n",
    "     \n",
    "    np.random.seed(3) #指定随机种子\n",
    "    n_x = layer_sizes(X, Y)[0] #\n",
    "    n_y = layer_sizes(X, Y)[2] #\n",
    "    \n",
    "    parameters = initialize_parameters(n_x,n_h,n_y)\n",
    "    W1 = parameters[\"W1\"]\n",
    "    b1 = parameters[\"b1\"]\n",
    "    W2 = parameters[\"W2\"]\n",
    "    b2 = parameters[\"b2\"]\n",
    "    \n",
    "    for i in range(num_iterations):\n",
    "        A2 , cache = forward_propagation(X,parameters)\n",
    "        cost = compute_cost(A2,Y,parameters)\n",
    "        grads = backward_propagation(parameters,cache,X,Y)\n",
    "        parameters = update_parameters(parameters,grads,learning_rate = 0.5)\n",
    "        \n",
    "        if print_cost:\n",
    "            if i%1000 == 0:\n",
    "                print(\"第 \",i,\" 次循环，成本为：\"+str(cost))\n",
    "    return parameters"
   ]
  },
  {
   "cell_type": "code",
   "execution_count": 154,
   "metadata": {},
   "outputs": [],
   "source": [
    "#预测函数\n",
    "def predict(parameters,X):\n",
    "    \"\"\"\n",
    "    使用学习的参数，为X中的每个示例预测一个类\n",
    "    \n",
    "    参数：\n",
    "        parameters - 包含参数的字典类型的变量。\n",
    "        X - 输入数据（n_x，m）\n",
    "    \n",
    "    返回\n",
    "        predictions \n",
    "     \n",
    "     \"\"\"\n",
    "    A2 , cache = forward_propagation(X,parameters) \n",
    "    predictions = A2\n",
    "    return predictions"
   ]
  },
  {
   "cell_type": "code",
   "execution_count": 155,
   "metadata": {},
   "outputs": [
    {
     "name": "stdout",
     "output_type": "stream",
     "text": [
      "第  0  次循环，成本为：10.398739844009903\n",
      "第  1000  次循环，成本为：2.0215408169583187\n",
      "第  2000  次循环，成本为：1.726900300346474\n",
      "第  3000  次循环，成本为：1.7193053938372131\n",
      "第  4000  次循环，成本为：1.7152320981710192\n",
      "第  5000  次循环，成本为：1.7234599264776855\n",
      "第  6000  次循环，成本为：1.726509435379465\n",
      "第  7000  次循环，成本为：1.68175537336197\n",
      "第  8000  次循环，成本为：1.6663305333459606\n",
      "第  9000  次循环，成本为：1.666206061728937\n"
     ]
    }
   ],
   "source": [
    "parameters = model(train_x, train_y, n_h = 5, num_iterations=10000, print_cost=True)"
   ]
  },
  {
   "cell_type": "code",
   "execution_count": 156,
   "metadata": {},
   "outputs": [
    {
     "name": "stdout",
     "output_type": "stream",
     "text": [
      "0.724302525107354\n",
      "                    precision    recall  f1-score   support\n",
      "\n",
      "      news_culture       0.66      0.71      0.69      8365\n",
      "news_entertainment       0.69      0.80      0.74     11850\n",
      "       news_sports       0.87      0.81      0.84     11155\n",
      "      news_finance       0.68      0.56      0.61      8314\n",
      "        news_house       0.78      0.75      0.77      5333\n",
      "          news_car       0.79      0.82      0.81     10771\n",
      "          news_edu       0.74      0.78      0.76      8154\n",
      "         news_tech       0.72      0.76      0.74     12542\n",
      "     news_military       0.68      0.63      0.65      7411\n",
      "       news_travel       0.72      0.64      0.68      6340\n",
      "        news_world       0.63      0.64      0.64      7987\n",
      "  news_agriculture       0.62      0.75      0.68      5762\n",
      "         news_game       0.78      0.77      0.78      8900\n",
      "             stock       0.00      0.00      0.00       111\n",
      "        news_story       0.60      0.18      0.27      1812\n",
      "\n",
      "          accuracy                           0.72    114807\n",
      "         macro avg       0.66      0.64      0.64    114807\n",
      "      weighted avg       0.72      0.72      0.72    114807\n",
      "\n"
     ]
    }
   ],
   "source": [
    "#预测和评估\n",
    "def pre_score(parameters, X_test, y_test):\n",
    "    \n",
    "    #前向传播计算预测值\n",
    "    test_x = X_test.T\n",
    "    predictions = predict(parameters, test_x )\n",
    "    pred = predictions.T\n",
    "    preMax = np.argmax(pred, axis=1)\n",
    "    \n",
    "    #评估结果\n",
    "    print(accuracy_score(preMax,y_test))\n",
    "    print(classification_report(y_test, preMax,target_names=id_df['label'].values))\n",
    "    return\n",
    "\n",
    "pre_score(parameters, X_test ,y_test)"
   ]
  },
  {
   "cell_type": "code",
   "execution_count": null,
   "metadata": {},
   "outputs": [],
   "source": []
  }
 ],
 "metadata": {
  "kernelspec": {
   "display_name": "Python 3",
   "language": "python",
   "name": "python3"
  },
  "language_info": {
   "codemirror_mode": {
    "name": "ipython",
    "version": 3
   },
   "file_extension": ".py",
   "mimetype": "text/x-python",
   "name": "python",
   "nbconvert_exporter": "python",
   "pygments_lexer": "ipython3",
   "version": "3.8.3"
  }
 },
 "nbformat": 4,
 "nbformat_minor": 4
}
