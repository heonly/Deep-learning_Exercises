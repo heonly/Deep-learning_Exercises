{
 "cells": [
  {
   "cell_type": "code",
   "execution_count": 1,
   "metadata": {},
   "outputs": [],
   "source": [
    "import numpy as np\n",
    "import pandas as pd\n",
    "import matplotlib.pyplot as plt"
   ]
  },
  {
   "cell_type": "code",
   "execution_count": 2,
   "metadata": {},
   "outputs": [],
   "source": [
    "#读取数据\n",
    "#添加“header=None”，告诉函数原始文件数据没有列索引，让read_csv为自动加上列索引\n",
    "data = pd.read_csv( 'ex1data1.txt', header=None, names=['Population', 'Profit'])"
   ]
  },
  {
   "cell_type": "code",
   "execution_count": 3,
   "metadata": {},
   "outputs": [
    {
     "data": {
      "text/html": [
       "<div>\n",
       "<style scoped>\n",
       "    .dataframe tbody tr th:only-of-type {\n",
       "        vertical-align: middle;\n",
       "    }\n",
       "\n",
       "    .dataframe tbody tr th {\n",
       "        vertical-align: top;\n",
       "    }\n",
       "\n",
       "    .dataframe thead th {\n",
       "        text-align: right;\n",
       "    }\n",
       "</style>\n",
       "<table border=\"1\" class=\"dataframe\">\n",
       "  <thead>\n",
       "    <tr style=\"text-align: right;\">\n",
       "      <th></th>\n",
       "      <th>Population</th>\n",
       "      <th>Profit</th>\n",
       "    </tr>\n",
       "  </thead>\n",
       "  <tbody>\n",
       "    <tr>\n",
       "      <th>0</th>\n",
       "      <td>6.1101</td>\n",
       "      <td>17.59200</td>\n",
       "    </tr>\n",
       "    <tr>\n",
       "      <th>1</th>\n",
       "      <td>5.5277</td>\n",
       "      <td>9.13020</td>\n",
       "    </tr>\n",
       "    <tr>\n",
       "      <th>2</th>\n",
       "      <td>8.5186</td>\n",
       "      <td>13.66200</td>\n",
       "    </tr>\n",
       "    <tr>\n",
       "      <th>3</th>\n",
       "      <td>7.0032</td>\n",
       "      <td>11.85400</td>\n",
       "    </tr>\n",
       "    <tr>\n",
       "      <th>4</th>\n",
       "      <td>5.8598</td>\n",
       "      <td>6.82330</td>\n",
       "    </tr>\n",
       "    <tr>\n",
       "      <th>...</th>\n",
       "      <td>...</td>\n",
       "      <td>...</td>\n",
       "    </tr>\n",
       "    <tr>\n",
       "      <th>92</th>\n",
       "      <td>5.8707</td>\n",
       "      <td>7.20290</td>\n",
       "    </tr>\n",
       "    <tr>\n",
       "      <th>93</th>\n",
       "      <td>5.3054</td>\n",
       "      <td>1.98690</td>\n",
       "    </tr>\n",
       "    <tr>\n",
       "      <th>94</th>\n",
       "      <td>8.2934</td>\n",
       "      <td>0.14454</td>\n",
       "    </tr>\n",
       "    <tr>\n",
       "      <th>95</th>\n",
       "      <td>13.3940</td>\n",
       "      <td>9.05510</td>\n",
       "    </tr>\n",
       "    <tr>\n",
       "      <th>96</th>\n",
       "      <td>5.4369</td>\n",
       "      <td>0.61705</td>\n",
       "    </tr>\n",
       "  </tbody>\n",
       "</table>\n",
       "<p>97 rows × 2 columns</p>\n",
       "</div>"
      ],
      "text/plain": [
       "    Population    Profit\n",
       "0       6.1101  17.59200\n",
       "1       5.5277   9.13020\n",
       "2       8.5186  13.66200\n",
       "3       7.0032  11.85400\n",
       "4       5.8598   6.82330\n",
       "..         ...       ...\n",
       "92      5.8707   7.20290\n",
       "93      5.3054   1.98690\n",
       "94      8.2934   0.14454\n",
       "95     13.3940   9.05510\n",
       "96      5.4369   0.61705\n",
       "\n",
       "[97 rows x 2 columns]"
      ]
     },
     "execution_count": 3,
     "metadata": {},
     "output_type": "execute_result"
    }
   ],
   "source": [
    "#查看读取的数据\n",
    "data"
   ]
  },
  {
   "cell_type": "code",
   "execution_count": 9,
   "metadata": {},
   "outputs": [
    {
     "data": {
      "text/plain": [
       "<matplotlib.axes._subplots.AxesSubplot at 0x1a348c962b0>"
      ]
     },
     "execution_count": 9,
     "metadata": {},
     "output_type": "execute_result"
    },
    {
     "data": {
      "image/png": "[encoded data removed]",
      "text/plain": [
       "<Figure size 720x432 with 1 Axes>"
      ]
     },
     "metadata": {
      "needs_background": "light"
     },
     "output_type": "display_data"
    }
   ],
   "source": [
    "#绘制数据点图，大小10*6 inch\n",
    "data.plot(kind='scatter', x='Population', y='Profit', figsize=(10,6))"
   ]
  },
  {
   "cell_type": "code",
   "execution_count": 10,
   "metadata": {},
   "outputs": [],
   "source": [
    "#在训练集中添加一列全为1（第0列，命名为Ones），以便向量化计算\n",
    "data.insert(0, 'Ones', 1)"
   ]
  },
  {
   "cell_type": "code",
   "execution_count": 12,
   "metadata": {},
   "outputs": [
    {
     "data": {
      "text/html": [
       "<div>\n",
       "<style scoped>\n",
       "    .dataframe tbody tr th:only-of-type {\n",
       "        vertical-align: middle;\n",
       "    }\n",
       "\n",
       "    .dataframe tbody tr th {\n",
       "        vertical-align: top;\n",
       "    }\n",
       "\n",
       "    .dataframe thead th {\n",
       "        text-align: right;\n",
       "    }\n",
       "</style>\n",
       "<table border=\"1\" class=\"dataframe\">\n",
       "  <thead>\n",
       "    <tr style=\"text-align: right;\">\n",
       "      <th></th>\n",
       "      <th>Ones</th>\n",
       "      <th>Population</th>\n",
       "      <th>Profit</th>\n",
       "    </tr>\n",
       "  </thead>\n",
       "  <tbody>\n",
       "    <tr>\n",
       "      <th>0</th>\n",
       "      <td>1</td>\n",
       "      <td>6.1101</td>\n",
       "      <td>17.59200</td>\n",
       "    </tr>\n",
       "    <tr>\n",
       "      <th>1</th>\n",
       "      <td>1</td>\n",
       "      <td>5.5277</td>\n",
       "      <td>9.13020</td>\n",
       "    </tr>\n",
       "    <tr>\n",
       "      <th>2</th>\n",
       "      <td>1</td>\n",
       "      <td>8.5186</td>\n",
       "      <td>13.66200</td>\n",
       "    </tr>\n",
       "    <tr>\n",
       "      <th>3</th>\n",
       "      <td>1</td>\n",
       "      <td>7.0032</td>\n",
       "      <td>11.85400</td>\n",
       "    </tr>\n",
       "    <tr>\n",
       "      <th>4</th>\n",
       "      <td>1</td>\n",
       "      <td>5.8598</td>\n",
       "      <td>6.82330</td>\n",
       "    </tr>\n",
       "    <tr>\n",
       "      <th>...</th>\n",
       "      <td>...</td>\n",
       "      <td>...</td>\n",
       "      <td>...</td>\n",
       "    </tr>\n",
       "    <tr>\n",
       "      <th>92</th>\n",
       "      <td>1</td>\n",
       "      <td>5.8707</td>\n",
       "      <td>7.20290</td>\n",
       "    </tr>\n",
       "    <tr>\n",
       "      <th>93</th>\n",
       "      <td>1</td>\n",
       "      <td>5.3054</td>\n",
       "      <td>1.98690</td>\n",
       "    </tr>\n",
       "    <tr>\n",
       "      <th>94</th>\n",
       "      <td>1</td>\n",
       "      <td>8.2934</td>\n",
       "      <td>0.14454</td>\n",
       "    </tr>\n",
       "    <tr>\n",
       "      <th>95</th>\n",
       "      <td>1</td>\n",
       "      <td>13.3940</td>\n",
       "      <td>9.05510</td>\n",
       "    </tr>\n",
       "    <tr>\n",
       "      <th>96</th>\n",
       "      <td>1</td>\n",
       "      <td>5.4369</td>\n",
       "      <td>0.61705</td>\n",
       "    </tr>\n",
       "  </tbody>\n",
       "</table>\n",
       "<p>97 rows × 3 columns</p>\n",
       "</div>"
      ],
      "text/plain": [
       "    Ones  Population    Profit\n",
       "0      1      6.1101  17.59200\n",
       "1      1      5.5277   9.13020\n",
       "2      1      8.5186  13.66200\n",
       "3      1      7.0032  11.85400\n",
       "4      1      5.8598   6.82330\n",
       "..   ...         ...       ...\n",
       "92     1      5.8707   7.20290\n",
       "93     1      5.3054   1.98690\n",
       "94     1      8.2934   0.14454\n",
       "95     1     13.3940   9.05510\n",
       "96     1      5.4369   0.61705\n",
       "\n",
       "[97 rows x 3 columns]"
      ]
     },
     "execution_count": 12,
     "metadata": {},
     "output_type": "execute_result"
    }
   ],
   "source": [
    "#查看效果\n",
    "data"
   ]
  },
  {
   "cell_type": "code",
   "execution_count": 13,
   "metadata": {},
   "outputs": [],
   "source": [
    "#初始化数据X、y\n",
    "#‘:’表示所有行,data.shape[1]是表第一行的维度（即为3）\n",
    "X = data.iloc[:,0:data.shape[1]-1]#X为原表去掉最后一列\n",
    "y = data.iloc[:,data.shape[1]-1:data.shape[1]]#y是原表最后一列"
   ]
  },
  {
   "cell_type": "code",
   "execution_count": 14,
   "metadata": {},
   "outputs": [
    {
     "data": {
      "text/html": [
       "<div>\n",
       "<style scoped>\n",
       "    .dataframe tbody tr th:only-of-type {\n",
       "        vertical-align: middle;\n",
       "    }\n",
       "\n",
       "    .dataframe tbody tr th {\n",
       "        vertical-align: top;\n",
       "    }\n",
       "\n",
       "    .dataframe thead th {\n",
       "        text-align: right;\n",
       "    }\n",
       "</style>\n",
       "<table border=\"1\" class=\"dataframe\">\n",
       "  <thead>\n",
       "    <tr style=\"text-align: right;\">\n",
       "      <th></th>\n",
       "      <th>Ones</th>\n",
       "      <th>Population</th>\n",
       "    </tr>\n",
       "  </thead>\n",
       "  <tbody>\n",
       "    <tr>\n",
       "      <th>0</th>\n",
       "      <td>1</td>\n",
       "      <td>6.1101</td>\n",
       "    </tr>\n",
       "    <tr>\n",
       "      <th>1</th>\n",
       "      <td>1</td>\n",
       "      <td>5.5277</td>\n",
       "    </tr>\n",
       "    <tr>\n",
       "      <th>2</th>\n",
       "      <td>1</td>\n",
       "      <td>8.5186</td>\n",
       "    </tr>\n",
       "    <tr>\n",
       "      <th>3</th>\n",
       "      <td>1</td>\n",
       "      <td>7.0032</td>\n",
       "    </tr>\n",
       "    <tr>\n",
       "      <th>4</th>\n",
       "      <td>1</td>\n",
       "      <td>5.8598</td>\n",
       "    </tr>\n",
       "    <tr>\n",
       "      <th>...</th>\n",
       "      <td>...</td>\n",
       "      <td>...</td>\n",
       "    </tr>\n",
       "    <tr>\n",
       "      <th>92</th>\n",
       "      <td>1</td>\n",
       "      <td>5.8707</td>\n",
       "    </tr>\n",
       "    <tr>\n",
       "      <th>93</th>\n",
       "      <td>1</td>\n",
       "      <td>5.3054</td>\n",
       "    </tr>\n",
       "    <tr>\n",
       "      <th>94</th>\n",
       "      <td>1</td>\n",
       "      <td>8.2934</td>\n",
       "    </tr>\n",
       "    <tr>\n",
       "      <th>95</th>\n",
       "      <td>1</td>\n",
       "      <td>13.3940</td>\n",
       "    </tr>\n",
       "    <tr>\n",
       "      <th>96</th>\n",
       "      <td>1</td>\n",
       "      <td>5.4369</td>\n",
       "    </tr>\n",
       "  </tbody>\n",
       "</table>\n",
       "<p>97 rows × 2 columns</p>\n",
       "</div>"
      ],
      "text/plain": [
       "    Ones  Population\n",
       "0      1      6.1101\n",
       "1      1      5.5277\n",
       "2      1      8.5186\n",
       "3      1      7.0032\n",
       "4      1      5.8598\n",
       "..   ...         ...\n",
       "92     1      5.8707\n",
       "93     1      5.3054\n",
       "94     1      8.2934\n",
       "95     1     13.3940\n",
       "96     1      5.4369\n",
       "\n",
       "[97 rows x 2 columns]"
      ]
     },
     "execution_count": 14,
     "metadata": {},
     "output_type": "execute_result"
    }
   ],
   "source": [
    "X"
   ]
  },
  {
   "cell_type": "code",
   "execution_count": 15,
   "metadata": {},
   "outputs": [
    {
     "data": {
      "text/html": [
       "<div>\n",
       "<style scoped>\n",
       "    .dataframe tbody tr th:only-of-type {\n",
       "        vertical-align: middle;\n",
       "    }\n",
       "\n",
       "    .dataframe tbody tr th {\n",
       "        vertical-align: top;\n",
       "    }\n",
       "\n",
       "    .dataframe thead th {\n",
       "        text-align: right;\n",
       "    }\n",
       "</style>\n",
       "<table border=\"1\" class=\"dataframe\">\n",
       "  <thead>\n",
       "    <tr style=\"text-align: right;\">\n",
       "      <th></th>\n",
       "      <th>Profit</th>\n",
       "    </tr>\n",
       "  </thead>\n",
       "  <tbody>\n",
       "    <tr>\n",
       "      <th>0</th>\n",
       "      <td>17.59200</td>\n",
       "    </tr>\n",
       "    <tr>\n",
       "      <th>1</th>\n",
       "      <td>9.13020</td>\n",
       "    </tr>\n",
       "    <tr>\n",
       "      <th>2</th>\n",
       "      <td>13.66200</td>\n",
       "    </tr>\n",
       "    <tr>\n",
       "      <th>3</th>\n",
       "      <td>11.85400</td>\n",
       "    </tr>\n",
       "    <tr>\n",
       "      <th>4</th>\n",
       "      <td>6.82330</td>\n",
       "    </tr>\n",
       "    <tr>\n",
       "      <th>...</th>\n",
       "      <td>...</td>\n",
       "    </tr>\n",
       "    <tr>\n",
       "      <th>92</th>\n",
       "      <td>7.20290</td>\n",
       "    </tr>\n",
       "    <tr>\n",
       "      <th>93</th>\n",
       "      <td>1.98690</td>\n",
       "    </tr>\n",
       "    <tr>\n",
       "      <th>94</th>\n",
       "      <td>0.14454</td>\n",
       "    </tr>\n",
       "    <tr>\n",
       "      <th>95</th>\n",
       "      <td>9.05510</td>\n",
       "    </tr>\n",
       "    <tr>\n",
       "      <th>96</th>\n",
       "      <td>0.61705</td>\n",
       "    </tr>\n",
       "  </tbody>\n",
       "</table>\n",
       "<p>97 rows × 1 columns</p>\n",
       "</div>"
      ],
      "text/plain": [
       "      Profit\n",
       "0   17.59200\n",
       "1    9.13020\n",
       "2   13.66200\n",
       "3   11.85400\n",
       "4    6.82330\n",
       "..       ...\n",
       "92   7.20290\n",
       "93   1.98690\n",
       "94   0.14454\n",
       "95   9.05510\n",
       "96   0.61705\n",
       "\n",
       "[97 rows x 1 columns]"
      ]
     },
     "execution_count": 15,
     "metadata": {},
     "output_type": "execute_result"
    }
   ],
   "source": [
    "y"
   ]
  },
  {
   "cell_type": "code",
   "execution_count": 16,
   "metadata": {},
   "outputs": [],
   "source": [
    "#将X、y转化为矩阵\n",
    "X = np.matrix(X.values)\n",
    "y = np.matrix(y.values)"
   ]
  },
  {
   "cell_type": "code",
   "execution_count": 17,
   "metadata": {},
   "outputs": [
    {
     "data": {
      "text/plain": [
       "matrix([[ 1.    ,  6.1101],\n",
       "        [ 1.    ,  5.5277],\n",
       "        [ 1.    ,  8.5186],\n",
       "        [ 1.    ,  7.0032],\n",
       "        [ 1.    ,  5.8598],\n",
       "        [ 1.    ,  8.3829],\n",
       "        [ 1.    ,  7.4764],\n",
       "        [ 1.    ,  8.5781],\n",
       "        [ 1.    ,  6.4862],\n",
       "        [ 1.    ,  5.0546],\n",
       "        [ 1.    ,  5.7107],\n",
       "        [ 1.    , 14.164 ],\n",
       "        [ 1.    ,  5.734 ],\n",
       "        [ 1.    ,  8.4084],\n",
       "        [ 1.    ,  5.6407],\n",
       "        [ 1.    ,  5.3794],\n",
       "        [ 1.    ,  6.3654],\n",
       "        [ 1.    ,  5.1301],\n",
       "        [ 1.    ,  6.4296],\n",
       "        [ 1.    ,  7.0708],\n",
       "        [ 1.    ,  6.1891],\n",
       "        [ 1.    , 20.27  ],\n",
       "        [ 1.    ,  5.4901],\n",
       "        [ 1.    ,  6.3261],\n",
       "        [ 1.    ,  5.5649],\n",
       "        [ 1.    , 18.945 ],\n",
       "        [ 1.    , 12.828 ],\n",
       "        [ 1.    , 10.957 ],\n",
       "        [ 1.    , 13.176 ],\n",
       "        [ 1.    , 22.203 ],\n",
       "        [ 1.    ,  5.2524],\n",
       "        [ 1.    ,  6.5894],\n",
       "        [ 1.    ,  9.2482],\n",
       "        [ 1.    ,  5.8918],\n",
       "        [ 1.    ,  8.2111],\n",
       "        [ 1.    ,  7.9334],\n",
       "        [ 1.    ,  8.0959],\n",
       "        [ 1.    ,  5.6063],\n",
       "        [ 1.    , 12.836 ],\n",
       "        [ 1.    ,  6.3534],\n",
       "        [ 1.    ,  5.4069],\n",
       "        [ 1.    ,  6.8825],\n",
       "        [ 1.    , 11.708 ],\n",
       "        [ 1.    ,  5.7737],\n",
       "        [ 1.    ,  7.8247],\n",
       "        [ 1.    ,  7.0931],\n",
       "        [ 1.    ,  5.0702],\n",
       "        [ 1.    ,  5.8014],\n",
       "        [ 1.    , 11.7   ],\n",
       "        [ 1.    ,  5.5416],\n",
       "        [ 1.    ,  7.5402],\n",
       "        [ 1.    ,  5.3077],\n",
       "        [ 1.    ,  7.4239],\n",
       "        [ 1.    ,  7.6031],\n",
       "        [ 1.    ,  6.3328],\n",
       "        [ 1.    ,  6.3589],\n",
       "        [ 1.    ,  6.2742],\n",
       "        [ 1.    ,  5.6397],\n",
       "        [ 1.    ,  9.3102],\n",
       "        [ 1.    ,  9.4536],\n",
       "        [ 1.    ,  8.8254],\n",
       "        [ 1.    ,  5.1793],\n",
       "        [ 1.    , 21.279 ],\n",
       "        [ 1.    , 14.908 ],\n",
       "        [ 1.    , 18.959 ],\n",
       "        [ 1.    ,  7.2182],\n",
       "        [ 1.    ,  8.2951],\n",
       "        [ 1.    , 10.236 ],\n",
       "        [ 1.    ,  5.4994],\n",
       "        [ 1.    , 20.341 ],\n",
       "        [ 1.    , 10.136 ],\n",
       "        [ 1.    ,  7.3345],\n",
       "        [ 1.    ,  6.0062],\n",
       "        [ 1.    ,  7.2259],\n",
       "        [ 1.    ,  5.0269],\n",
       "        [ 1.    ,  6.5479],\n",
       "        [ 1.    ,  7.5386],\n",
       "        [ 1.    ,  5.0365],\n",
       "        [ 1.    , 10.274 ],\n",
       "        [ 1.    ,  5.1077],\n",
       "        [ 1.    ,  5.7292],\n",
       "        [ 1.    ,  5.1884],\n",
       "        [ 1.    ,  6.3557],\n",
       "        [ 1.    ,  9.7687],\n",
       "        [ 1.    ,  6.5159],\n",
       "        [ 1.    ,  8.5172],\n",
       "        [ 1.    ,  9.1802],\n",
       "        [ 1.    ,  6.002 ],\n",
       "        [ 1.    ,  5.5204],\n",
       "        [ 1.    ,  5.0594],\n",
       "        [ 1.    ,  5.7077],\n",
       "        [ 1.    ,  7.6366],\n",
       "        [ 1.    ,  5.8707],\n",
       "        [ 1.    ,  5.3054],\n",
       "        [ 1.    ,  8.2934],\n",
       "        [ 1.    , 13.394 ],\n",
       "        [ 1.    ,  5.4369]])"
      ]
     },
     "execution_count": 17,
     "metadata": {},
     "output_type": "execute_result"
    }
   ],
   "source": [
    "X"
   ]
  },
  {
   "cell_type": "code",
   "execution_count": 20,
   "metadata": {},
   "outputs": [
    {
     "data": {
      "text/plain": [
       "matrix([[17.592  ],\n",
       "        [ 9.1302 ],\n",
       "        [13.662  ],\n",
       "        [11.854  ],\n",
       "        [ 6.8233 ],\n",
       "        [11.886  ],\n",
       "        [ 4.3483 ],\n",
       "        [12.     ],\n",
       "        [ 6.5987 ],\n",
       "        [ 3.8166 ],\n",
       "        [ 3.2522 ],\n",
       "        [15.505  ],\n",
       "        [ 3.1551 ],\n",
       "        [ 7.2258 ],\n",
       "        [ 0.71618],\n",
       "        [ 3.5129 ],\n",
       "        [ 5.3048 ],\n",
       "        [ 0.56077],\n",
       "        [ 3.6518 ],\n",
       "        [ 5.3893 ],\n",
       "        [ 3.1386 ],\n",
       "        [21.767  ],\n",
       "        [ 4.263  ],\n",
       "        [ 5.1875 ],\n",
       "        [ 3.0825 ],\n",
       "        [22.638  ],\n",
       "        [13.501  ],\n",
       "        [ 7.0467 ],\n",
       "        [14.692  ],\n",
       "        [24.147  ],\n",
       "        [-1.22   ],\n",
       "        [ 5.9966 ],\n",
       "        [12.134  ],\n",
       "        [ 1.8495 ],\n",
       "        [ 6.5426 ],\n",
       "        [ 4.5623 ],\n",
       "        [ 4.1164 ],\n",
       "        [ 3.3928 ],\n",
       "        [10.117  ],\n",
       "        [ 5.4974 ],\n",
       "        [ 0.55657],\n",
       "        [ 3.9115 ],\n",
       "        [ 5.3854 ],\n",
       "        [ 2.4406 ],\n",
       "        [ 6.7318 ],\n",
       "        [ 1.0463 ],\n",
       "        [ 5.1337 ],\n",
       "        [ 1.844  ],\n",
       "        [ 8.0043 ],\n",
       "        [ 1.0179 ],\n",
       "        [ 6.7504 ],\n",
       "        [ 1.8396 ],\n",
       "        [ 4.2885 ],\n",
       "        [ 4.9981 ],\n",
       "        [ 1.4233 ],\n",
       "        [-1.4211 ],\n",
       "        [ 2.4756 ],\n",
       "        [ 4.6042 ],\n",
       "        [ 3.9624 ],\n",
       "        [ 5.4141 ],\n",
       "        [ 5.1694 ],\n",
       "        [-0.74279],\n",
       "        [17.929  ],\n",
       "        [12.054  ],\n",
       "        [17.054  ],\n",
       "        [ 4.8852 ],\n",
       "        [ 5.7442 ],\n",
       "        [ 7.7754 ],\n",
       "        [ 1.0173 ],\n",
       "        [20.992  ],\n",
       "        [ 6.6799 ],\n",
       "        [ 4.0259 ],\n",
       "        [ 1.2784 ],\n",
       "        [ 3.3411 ],\n",
       "        [-2.6807 ],\n",
       "        [ 0.29678],\n",
       "        [ 3.8845 ],\n",
       "        [ 5.7014 ],\n",
       "        [ 6.7526 ],\n",
       "        [ 2.0576 ],\n",
       "        [ 0.47953],\n",
       "        [ 0.20421],\n",
       "        [ 0.67861],\n",
       "        [ 7.5435 ],\n",
       "        [ 5.3436 ],\n",
       "        [ 4.2415 ],\n",
       "        [ 6.7981 ],\n",
       "        [ 0.92695],\n",
       "        [ 0.152  ],\n",
       "        [ 2.8214 ],\n",
       "        [ 1.8451 ],\n",
       "        [ 4.2959 ],\n",
       "        [ 7.2029 ],\n",
       "        [ 1.9869 ],\n",
       "        [ 0.14454],\n",
       "        [ 9.0551 ],\n",
       "        [ 0.61705]])"
      ]
     },
     "execution_count": 20,
     "metadata": {},
     "output_type": "execute_result"
    }
   ],
   "source": [
    "y"
   ]
  },
  {
   "cell_type": "code",
   "execution_count": 21,
   "metadata": {},
   "outputs": [],
   "source": [
    "#初始化𝜃，全为0的1*2矩阵\n",
    "theta = np.matrix(np.array([0,0]))"
   ]
  },
  {
   "cell_type": "code",
   "execution_count": 22,
   "metadata": {},
   "outputs": [
    {
     "data": {
      "text/plain": [
       "matrix([[0, 0]])"
      ]
     },
     "execution_count": 22,
     "metadata": {},
     "output_type": "execute_result"
    }
   ],
   "source": [
    "theta"
   ]
  },
  {
   "cell_type": "code",
   "execution_count": 23,
   "metadata": {},
   "outputs": [
    {
     "data": {
      "text/plain": [
       "((97, 2), (1, 2), (97, 1))"
      ]
     },
     "execution_count": 23,
     "metadata": {},
     "output_type": "execute_result"
    }
   ],
   "source": [
    "#查看当前X、y、𝜃的维度\n",
    "X.shape, theta.shape, y.shape"
   ]
  },
  {
   "attachments": {},
   "cell_type": "markdown",
   "metadata": {},
   "source": [
    "代价函数\n",
    "$$J\\left( \\theta  \\right)=\\frac{1}{2m}\\sum\\limits_{i=1}^{m}{{{\\left( {{h}_{\\theta }}\\left( {{x}^{(i)}} \\right)-{{y}^{(i)}} \\right)}^{2}}}$$\n",
    "其中\\\\[{{h}_{\\theta }}\\left( x \\right)={{\\theta }^{T}}X={{\\theta }_{0}}{{x}_{0}}+{{\\theta }_{1}}{{x}_{1}}+{{\\theta }_{2}}{{x}_{2}}+...+{{\\theta }_{n}}{{x}_{n}}\\\\] "
   ]
  },
  {
   "cell_type": "code",
   "execution_count": 24,
   "metadata": {},
   "outputs": [],
   "source": [
    "#定义代价函数\n",
    "def computeCost(X, y, theta):\n",
    "    return np.sum(np.power(((X * theta.T) - y), 2)) / (2 * len(X))#即为𝐽(𝜃)向量计算表达式"
   ]
  },
  {
   "cell_type": "code",
   "execution_count": 25,
   "metadata": {},
   "outputs": [
    {
     "data": {
      "text/plain": [
       "32.072733877455676"
      ]
     },
     "execution_count": 25,
     "metadata": {},
     "output_type": "execute_result"
    }
   ],
   "source": [
    "#查看初始代价\n",
    "computeCost(X, y, theta)"
   ]
  },
  {
   "cell_type": "markdown",
   "metadata": {},
   "source": [
    "批量梯度下降（batch gradient decent）\n",
    "$${{\\theta }_{j}}:={{\\theta }_{j}}-\\alpha \\frac{\\partial }{\\partial {{\\theta }_{j}}}J\\left( \\theta  \\right)$$"
   ]
  },
  {
   "cell_type": "code",
   "execution_count": 31,
   "metadata": {},
   "outputs": [],
   "source": [
    "#定义批量梯度下降算法\n",
    "def gradientDescent(X, y, theta, alpha, iters):\n",
    "    temp = np.matrix(np.zeros(theta.shape))#[0,1]\n",
    "    parameters = int(theta.ravel().shape[1])#0,1\n",
    "    cost = np.zeros(iters)#[0 0 0 ... 0]\n",
    "    \n",
    "    for i in range(iters):\n",
    "        error = (X * theta.T) - y\n",
    "        \n",
    "        for j in range(parameters):\n",
    "            term = np.multiply(error, X[:,j])\n",
    "            temp[0,j] = theta[0,j] - ((alpha / len(X)) * np.sum(term))\n",
    "            \n",
    "        theta = temp\n",
    "        cost[i] = computeCost(X, y, theta)\n",
    "        \n",
    "    return theta, cost"
   ]
  },
  {
   "cell_type": "code",
   "execution_count": 32,
   "metadata": {},
   "outputs": [],
   "source": [
    "#初始化学习率α和迭代次数iters\n",
    "alpha = 0.01\n",
    "iters = 1000"
   ]
  },
  {
   "cell_type": "code",
   "execution_count": 33,
   "metadata": {},
   "outputs": [],
   "source": [
    "t, cost = gradientDescent(X, y, theta, alpha, iters)"
   ]
  },
  {
   "cell_type": "code",
   "execution_count": 35,
   "metadata": {},
   "outputs": [
    {
     "data": {
      "text/plain": [
       "matrix([[-3.24140214,  1.1272942 ]])"
      ]
     },
     "execution_count": 35,
     "metadata": {},
     "output_type": "execute_result"
    }
   ],
   "source": [
    "t"
   ]
  },
  {
   "cell_type": "code",
   "execution_count": 36,
   "metadata": {},
   "outputs": [
    {
     "data": {
      "text/plain": [
       "4.515955503078912"
      ]
     },
     "execution_count": 36,
     "metadata": {},
     "output_type": "execute_result"
    }
   ],
   "source": [
    "computeCost(X, y, t)"
   ]
  },
  {
   "cell_type": "markdown",
   "metadata": {},
   "source": [
    "代价函数值由初始32.072733877455676下降到4.515955503078912"
   ]
  },
  {
   "cell_type": "code",
   "execution_count": 38,
   "metadata": {},
   "outputs": [
    {
     "data": {
      "image/png": "[encoded data removed]",
      "text/plain": [
       "<Figure size 864x576 with 1 Axes>"
      ]
     },
     "metadata": {
      "needs_background": "light"
     },
     "output_type": "display_data"
    }
   ],
   "source": [
    "#查看拟合程度\n",
    "x = np.linspace(data.Population.min(), data.Population.max(), 100)\n",
    "f = t[0, 0] + (t[0, 1] * x)\n",
    "\n",
    "fig, ax = plt.subplots(figsize=(12,8))\n",
    "ax.plot(x, f, 'r', label='Prediction')\n",
    "ax.scatter(data.Population, data.Profit, label='Traning Data')\n",
    "ax.legend(loc=2)\n",
    "ax.set_xlabel('Population')\n",
    "ax.set_ylabel('Profit')\n",
    "ax.set_title('Predicted Profit vs. Population Size')\n",
    "plt.show()"
   ]
  },
  {
   "cell_type": "code",
   "execution_count": null,
   "metadata": {},
   "outputs": [],
   "source": []
  }
 ],
 "metadata": {
  "kernelspec": {
   "display_name": "Python 3",
   "language": "python",
   "name": "python3"
  },
  "language_info": {
   "codemirror_mode": {
    "name": "ipython",
    "version": 3
   },
   "file_extension": ".py",
   "mimetype": "text/x-python",
   "name": "python",
   "nbconvert_exporter": "python",
   "pygments_lexer": "ipython3",
   "version": "3.8.3"
  }
 },
 "nbformat": 4,
 "nbformat_minor": 4
}
